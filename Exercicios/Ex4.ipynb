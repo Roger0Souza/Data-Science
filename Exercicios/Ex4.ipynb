{
  "nbformat": 4,
  "nbformat_minor": 0,
  "metadata": {
    "colab": {
      "provenance": []
    },
    "kernelspec": {
      "name": "python3",
      "display_name": "Python 3"
    }
  },
  "cells": [
    {
      "cell_type": "markdown",
      "metadata": {
        "id": "HaabIE4ETRhY"
      },
      "source": [
        "# SCC-ICMC-USP - 2º Semestre de 2023\n",
        "## SCC0275 - Introdução à Ciência de Dados\n",
        "### Professora: Roseli A. F. Romero\n",
        "### Monitor: Roseval Malaquias Jr\n",
        "\n",
        "### **Exercício 4**\n",
        "\n",
        "**Número do Grupo:**\n",
        "\n",
        "**Alunos:**\n",
        "1. List item\n",
        "2. List item\n",
        "\n",
        "Nesta atividade, nosso objetivo é exercitar os seguintes conceitos:\n",
        "- Manuseio e exploração de datasets utilizando a biblioteca `pandas`;\n",
        "- Utilização de métodos de imputação de valores faltantes com a biblioteca `scikit-learn`;\n",
        "- Transformação de variáveis utilizando a biblioteca `scikit-learn`;\n",
        "- Aplicação do método PCA utilizando a biblioteca `scikit-learn`.\n",
        "\n",
        "---\n",
        "\n",
        "Para os exercícios de **1** a **5**, utilizaremos o dataset **titanic.csv**. A célula de código a seguir realizará o download deste dataset para o ambiente virtual do Google Colab.\n"
      ]
    },
    {
      "cell_type": "code",
      "source": [
        "# Download do dataset para o ambiente virtual.\n",
        "!wget -O titanic.csv \"https://drive.google.com/uc?export=download&id=1agkXL_AlnzqjrPKIPwJy01Bkh17GUW-3\""
      ],
      "metadata": {
        "id": "2yp68sc1kBDp"
      },
      "execution_count": null,
      "outputs": []
    },
    {
      "cell_type": "markdown",
      "source": [
        "## Dataset **hepatitis.csv**"
      ],
      "metadata": {
        "id": "n560rdHVkH0O"
      }
    },
    {
      "cell_type": "markdown",
      "metadata": {
        "id": "_YGNezFvvnES"
      },
      "source": [
        "---\n",
        "### Questão 01.\n",
        "\n",
        "Carregue o dataset **hepatitis.csv** (`pandas.read_csv`) e interprete os valores ausentes corretamente. Utilize o parâmetro `na_values='?'`."
      ]
    },
    {
      "cell_type": "code",
      "metadata": {
        "id": "IXyPAd32wZq4"
      },
      "source": [],
      "execution_count": null,
      "outputs": []
    },
    {
      "cell_type": "markdown",
      "source": [
        "---\n",
        "### Questão 02.\n",
        "Realize uma análise exploratória inicial do dataset fornecido.\n",
        "\n",
        "Para isso, você deve:\n",
        "\n",
        " - Apresente a quantidade de valores faltantes para cada variável do dataset.\n"
      ],
      "metadata": {
        "id": "AoWo_N9Lkukt"
      }
    },
    {
      "cell_type": "code",
      "source": [],
      "metadata": {
        "id": "hKc6ZCyZkvva"
      },
      "execution_count": null,
      "outputs": []
    },
    {
      "cell_type": "markdown",
      "metadata": {
        "id": "l28MiSJ8tEzb"
      },
      "source": [
        "\n",
        "\n",
        "---\n",
        "\n",
        "### Questão 03.\n",
        "\n",
        "Realize o pré-processamento do dataset fornecido.\n",
        "\n",
        "Para isso, você deve:\n",
        "\n",
        "\n",
        "-   **Para as variáveis numéricas:** substitua os valores faltantes utilizando a estratégia de **mediana** (`sklearn.impute.SimpleImputer`). Depois, **padronize** as variáveis (`sklearn.preprocessing.StandarScaler`).\n",
        "-   **Para as variáveis categóricas:** substitua os valores faltantes utilizando a estratégia de **mais frequentes** (`sklearn.impute.SimpleImputer`). Depois, converta os dados categóricos para uma representação numérica, utilizando a codificação **Label Encoding** (`sklearn.preprocessing.LabelEncoder`).\n",
        "\n",
        "Por fim, apresente os resultados, comprovando que a imputação e transformações foram feitas corretamente."
      ]
    },
    {
      "cell_type": "code",
      "metadata": {
        "id": "7eU824MhsLjR"
      },
      "source": [],
      "execution_count": null,
      "outputs": []
    },
    {
      "cell_type": "markdown",
      "source": [
        "\n",
        "\n",
        "---\n",
        "\n",
        "### Questão 04.\n",
        "\n",
        "- Separe a variável ``Survived`` do dataframe resultante.\n",
        "\n",
        "- Para o restante do dataframe, reduza o número de variáveis explicativas para 2 dimensões, utilizando a técnica PCA (`sklearn.decomposition.PCA`).\n",
        "\n",
        "- Plote um gráfico bidimensional dos pontos após a redução, colorindo cada ponto com o valor do atributo ``Survived``para aquele ponto.\n",
        "\n",
        "- Discuta a interpretação dos componentes principais.\n",
        "\n",
        "> **Faça uma cópia do dataframe resultante da questão 03, pois ele será utilizado na próxima questão**"
      ],
      "metadata": {
        "id": "x8cGrYc2p98q"
      }
    },
    {
      "cell_type": "code",
      "source": [],
      "metadata": {
        "id": "BKRukrzdp-YR"
      },
      "execution_count": null,
      "outputs": []
    },
    {
      "cell_type": "markdown",
      "metadata": {
        "id": "d-MZPSb4Ya9U"
      },
      "source": [
        "\n",
        "\n",
        "---\n",
        "\n",
        "### Questão 05.\n",
        "\n",
        "**Para o dataframe resultante da questão 03:**\n",
        "- Reduza a dimensionalidade do conjunto de dados criado utilizando a técnica PCA (`sklearn.decomposition.PCA`). Reduza a dimensionalidade de forma que no mínimo 80% da variância dos dados seja mantida. Depois apresente os eixos principais."
      ]
    },
    {
      "cell_type": "code",
      "metadata": {
        "id": "aTib3VxtYviF"
      },
      "source": [],
      "execution_count": null,
      "outputs": []
    }
  ]
}