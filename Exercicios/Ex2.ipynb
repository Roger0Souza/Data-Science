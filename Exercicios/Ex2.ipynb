{
  "nbformat": 4,
  "nbformat_minor": 0,
  "metadata": {
    "colab": {
      "provenance": []
    },
    "kernelspec": {
      "name": "python3",
      "display_name": "Python 3"
    }
  },
  "cells": [
    {
      "cell_type": "markdown",
      "metadata": {
        "id": "HaabIE4ETRhY"
      },
      "source": [
        "# SCC-ICMC-USP - 2º Semestre de 2023\n",
        "## SCC0275 - Introdução à Ciência de Dados\n",
        "### Professora: Roseli A. F. Romero\n",
        "### Monitor: Roseval Malaquias Jr\n",
        "\n",
        "### **Exercício 2**\n",
        "\n",
        "**Número do Grupo:**\n",
        "\n",
        "**Alunos:**\n",
        "1. Danilo Carneiro\n",
        "2. Roger Rafael\n",
        "\n",
        "Nesta atividade, nosso objetivo é exercitar os seguintes conceitos:\n",
        "- Manuseio e exploração de datasets utilizando a biblioteca `pandas`.\n",
        "- Análise de correlações entre variáveis e sua interpretação para a limpeza de datasets.\n",
        "- Utilização de métodos de imputação de valores faltantes com a biblioteca `scikit-learn`.\n",
        "- Transformação de variáveis categóricas utilizando a biblioteca `scikit-learn`.\n",
        "\n",
        "---\n",
        "\n",
        "Para os exercícios de **1** a **6**, utilizaremos o dataset **hepatitis.csv**.  A célula de código a seguir realizará o download destes dois datasets para o ambiente virtual do Google Colab.\n"
      ]
    },
    {
      "cell_type": "code",
      "source": [
        "# Download dos datasets para o ambiente virtual.\n",
        "!wget -O hepatitis.csv \"https://drive.google.com/uc?export=download&id=1hYkarxPr0snIl-W7VWM9OxZdsOfuUwsU\"\n"
      ],
      "metadata": {
        "id": "sdDczME6dgHl",
        "colab": {
          "base_uri": "https://localhost:8080/"
        },
        "outputId": "e8ed5287-9c13-4744-f73d-da37da32cc97"
      },
      "execution_count": 2,
      "outputs": [
        {
          "output_type": "stream",
          "name": "stdout",
          "text": [
            "--2023-09-14 17:23:17--  https://drive.google.com/uc?export=download&id=1hYkarxPr0snIl-W7VWM9OxZdsOfuUwsU\n",
            "Resolving drive.google.com (drive.google.com)... 142.250.101.102, 142.250.101.113, 142.250.101.138, ...\n",
            "Connecting to drive.google.com (drive.google.com)|142.250.101.102|:443... connected.\n",
            "HTTP request sent, awaiting response... 303 See Other\n",
            "Location: https://doc-14-a0-docs.googleusercontent.com/docs/securesc/ha0ro937gcuc7l7deffksulhg5h7mbp1/huespoguhf2qvg95i6jcqu8qi6h9ndk1/1694712150000/17263126637575785733/*/1hYkarxPr0snIl-W7VWM9OxZdsOfuUwsU?e=download&uuid=2146a4fb-0ed8-46c4-9d2b-9b5912729ad3 [following]\n",
            "Warning: wildcards not supported in HTTP.\n",
            "--2023-09-14 17:23:17--  https://doc-14-a0-docs.googleusercontent.com/docs/securesc/ha0ro937gcuc7l7deffksulhg5h7mbp1/huespoguhf2qvg95i6jcqu8qi6h9ndk1/1694712150000/17263126637575785733/*/1hYkarxPr0snIl-W7VWM9OxZdsOfuUwsU?e=download&uuid=2146a4fb-0ed8-46c4-9d2b-9b5912729ad3\n",
            "Resolving doc-14-a0-docs.googleusercontent.com (doc-14-a0-docs.googleusercontent.com)... 142.251.2.132, 2607:f8b0:4023:c0d::84\n",
            "Connecting to doc-14-a0-docs.googleusercontent.com (doc-14-a0-docs.googleusercontent.com)|142.251.2.132|:443... connected.\n",
            "HTTP request sent, awaiting response... 200 OK\n",
            "Length: 10814 (11K) [text/csv]\n",
            "Saving to: ‘hepatitis.csv’\n",
            "\n",
            "hepatitis.csv       100%[===================>]  10.56K  --.-KB/s    in 0s      \n",
            "\n",
            "2023-09-14 17:23:18 (104 MB/s) - ‘hepatitis.csv’ saved [10814/10814]\n",
            "\n"
          ]
        }
      ]
    },
    {
      "cell_type": "markdown",
      "source": [
        "## Dataset **hepatitis.csv**"
      ],
      "metadata": {
        "id": "-xRx8N3JuqiL"
      }
    },
    {
      "cell_type": "markdown",
      "metadata": {
        "id": "_YGNezFvvnES"
      },
      "source": [
        "### Questão 01.\n",
        "\n",
        "Carregue o dataset **hepatitis.csv** (`pandas.read_csv`) e interprete os valores ausentes corretamente. Utilize o parâmetro `na_values='?'`."
      ]
    },
    {
      "cell_type": "code",
      "metadata": {
        "id": "IXyPAd32wZq4",
        "colab": {
          "base_uri": "https://localhost:8080/"
        },
        "outputId": "dc9637ac-6525-4a3c-d875-f9ad23e261f6"
      },
      "source": [
        "# Imports\n",
        "import pandas as pd\n",
        "import numpy as np\n",
        "import sklearn as sk\n",
        "import matplotlib.pyplot as plt\n",
        "import seaborn as sns\n",
        "\n",
        "# Code\n",
        "hepatitis = pd.read_csv('hepatitis.csv', na_values='?')\n",
        "print(hepatitis.info())"
      ],
      "execution_count": 36,
      "outputs": [
        {
          "output_type": "stream",
          "name": "stdout",
          "text": [
            "<class 'pandas.core.frame.DataFrame'>\n",
            "RangeIndex: 155 entries, 0 to 154\n",
            "Data columns (total 20 columns):\n",
            " #   Column           Non-Null Count  Dtype  \n",
            "---  ------           --------------  -----  \n",
            " 0   AGE              155 non-null    int64  \n",
            " 1   SEX              155 non-null    object \n",
            " 2   STEROID          154 non-null    object \n",
            " 3   ANTIVIRALS       155 non-null    object \n",
            " 4   FATIGUE          154 non-null    object \n",
            " 5   MALAISE          154 non-null    object \n",
            " 6   ANOREXIA         154 non-null    object \n",
            " 7   LIVER_BIG        145 non-null    object \n",
            " 8   LIVER_FIRM       144 non-null    object \n",
            " 9   SPLEEN_PALPABLE  150 non-null    object \n",
            " 10  SPIDERS          150 non-null    object \n",
            " 11  ASCITES          150 non-null    object \n",
            " 12  VARICES          150 non-null    object \n",
            " 13  BILIRUBIN        149 non-null    float64\n",
            " 14  ALK_PHOSPHATE    126 non-null    float64\n",
            " 15  SGOT             151 non-null    float64\n",
            " 16  ALBUMIN          139 non-null    float64\n",
            " 17  PROTIME          88 non-null     float64\n",
            " 18  HISTOLOGY        155 non-null    object \n",
            " 19  Class            155 non-null    int64  \n",
            "dtypes: float64(5), int64(2), object(13)\n",
            "memory usage: 24.3+ KB\n",
            "None\n"
          ]
        }
      ]
    },
    {
      "cell_type": "markdown",
      "source": [
        "---\n",
        "### Questão 02.\n",
        "Realize uma análise exploratória inicial do dataset fornecido.\n",
        "\n",
        "Para isso, você deve:\n",
        "\n",
        " - Apresente a quantidade de valores faltantes para cada variável do dataset.\n",
        " - Identifique o tipo de dado de cada uma das variáveis (se são numéricas ou categóricas).\n",
        "\n",
        "\n",
        "> **ATENÇÃO: O pandas pode importar as variáveis com os tipos incorretos!**\n"
      ],
      "metadata": {
        "id": "pS0JX8INmPcy"
      }
    },
    {
      "cell_type": "code",
      "source": [
        "missing = pd.DataFrame(hepatitis)\n",
        "missingsum = pd.DataFrame.isna(hepatitis).sum()\n",
        "print(missingsum)\n",
        "print('Tipos de dados faltantes:')\n",
        "print(missing.dtypes)"
      ],
      "metadata": {
        "id": "A4xZh_bCoRPp",
        "colab": {
          "base_uri": "https://localhost:8080/"
        },
        "outputId": "d7169227-c983-4480-ff45-159d73750f39"
      },
      "execution_count": 60,
      "outputs": [
        {
          "output_type": "stream",
          "name": "stdout",
          "text": [
            "AGE                 0\n",
            "SEX                 0\n",
            "STEROID             1\n",
            "ANTIVIRALS          0\n",
            "FATIGUE             1\n",
            "MALAISE             1\n",
            "ANOREXIA            1\n",
            "LIVER_BIG          10\n",
            "LIVER_FIRM         11\n",
            "SPLEEN_PALPABLE     5\n",
            "SPIDERS             5\n",
            "ASCITES             5\n",
            "VARICES             5\n",
            "BILIRUBIN           6\n",
            "ALK_PHOSPHATE      29\n",
            "SGOT                4\n",
            "ALBUMIN            16\n",
            "PROTIME            67\n",
            "HISTOLOGY           0\n",
            "Class               0\n",
            "dtype: int64\n",
            "Tipos de dados faltantes:\n",
            "AGE                  int64\n",
            "SEX                 object\n",
            "STEROID             object\n",
            "ANTIVIRALS          object\n",
            "FATIGUE             object\n",
            "MALAISE             object\n",
            "ANOREXIA            object\n",
            "LIVER_BIG           object\n",
            "LIVER_FIRM          object\n",
            "SPLEEN_PALPABLE     object\n",
            "SPIDERS             object\n",
            "ASCITES             object\n",
            "VARICES             object\n",
            "BILIRUBIN          float64\n",
            "ALK_PHOSPHATE      float64\n",
            "SGOT               float64\n",
            "ALBUMIN            float64\n",
            "PROTIME            float64\n",
            "HISTOLOGY           object\n",
            "Class                int64\n",
            "dtype: object\n"
          ]
        }
      ]
    },
    {
      "cell_type": "markdown",
      "metadata": {
        "id": "l28MiSJ8tEzb"
      },
      "source": [
        "\n",
        "\n",
        "---\n",
        "\n",
        "### Questão 03.\n",
        "\n",
        "Realize o pré-processamento do dataset fornecido.\n",
        "\n",
        "Para isso, você deve:\n",
        "\n",
        "\n",
        "-   **Para as variáveis numéricas:** substitua os valores faltantes utilizando a estratégia de **média** (`sklearn.impute.SimpleImputer`).\n",
        "-   **Para as variáveis categóricas:** substitua os valores faltantes utilizando a estratégia de mais frequentes (`sklearn.impute.SimpleImputer`).\n",
        "\n",
        "Por fim, apresente os resultados, comprovando que a imputação e transformações foram feitas corretamente."
      ]
    },
    {
      "cell_type": "code",
      "metadata": {
        "id": "7eU824MhsLjR",
        "colab": {
          "base_uri": "https://localhost:8080/"
        },
        "outputId": "3afb54e8-73ac-4859-a08a-11e144401651"
      },
      "source": [
        "from sklearn.impute import SimpleImputer\n",
        "\n",
        "\n",
        "imputer = SimpleImputer(strategy='mean')\n",
        "\n",
        "col_num = hepatitis.select_dtypes(include=['number']).columns\n",
        "\n",
        "imputer.fit_transform(hepatitis[col_num])\n",
        "\n",
        "hepatitis[col_num] = imputer.transform(hepatitis[col_num])\n",
        "\n",
        "#-----/\\ númericas. \\/ categóricas --------------------\n",
        "\n",
        "imputer2 = SimpleImputer(strategy='most_frequent')\n",
        "\n",
        "col_char = hepatitis.select_dtypes(include=['category', 'object']).columns\n",
        "\n",
        "imputer2.fit(hepatitis[col_char])\n",
        "\n",
        "hepatitis[col_char] = imputer2.transform(hepatitis[col_char])\n",
        "\n",
        "print(hepatitis.isnull().sum())"
      ],
      "execution_count": 64,
      "outputs": [
        {
          "output_type": "stream",
          "name": "stdout",
          "text": [
            "AGE                0\n",
            "SEX                0\n",
            "STEROID            0\n",
            "ANTIVIRALS         0\n",
            "FATIGUE            0\n",
            "MALAISE            0\n",
            "ANOREXIA           0\n",
            "LIVER_BIG          0\n",
            "LIVER_FIRM         0\n",
            "SPLEEN_PALPABLE    0\n",
            "SPIDERS            0\n",
            "ASCITES            0\n",
            "VARICES            0\n",
            "BILIRUBIN          0\n",
            "ALK_PHOSPHATE      0\n",
            "SGOT               0\n",
            "ALBUMIN            0\n",
            "PROTIME            0\n",
            "HISTOLOGY          0\n",
            "Class              0\n",
            "dtype: int64\n"
          ]
        }
      ]
    },
    {
      "cell_type": "markdown",
      "source": [
        "\n",
        "---\n",
        "\n",
        "### Questão 04.\n",
        "\n",
        "Calcule a matriz de correlação somente das variáveis. Determine quantas variáveis poderemos descartar e identifique quais são elas."
      ],
      "metadata": {
        "id": "mblsrgHodFI9"
      }
    },
    {
      "cell_type": "code",
      "source": [
        "hepatitis.corr()"
      ],
      "metadata": {
        "id": "KLbL1j6j55Q7",
        "outputId": "6e5238f2-afdc-44f1-d558-aed94c6e0a2d",
        "colab": {
          "base_uri": "https://localhost:8080/",
          "height": 325
        }
      },
      "execution_count": 66,
      "outputs": [
        {
          "output_type": "stream",
          "name": "stderr",
          "text": [
            "<ipython-input-66-d1552ab789a5>:1: FutureWarning: The default value of numeric_only in DataFrame.corr is deprecated. In a future version, it will default to False. Select only valid columns or specify the value of numeric_only to silence this warning.\n",
            "  hepatitis.corr()\n"
          ]
        },
        {
          "output_type": "execute_result",
          "data": {
            "text/plain": [
              "                    AGE  BILIRUBIN  ALK_PHOSPHATE      SGOT   ALBUMIN  \\\n",
              "AGE            1.000000   0.122884       0.008076  0.081052 -0.246169   \n",
              "BILIRUBIN      0.122884   1.000000       0.157982  0.232610 -0.370712   \n",
              "ALK_PHOSPHATE  0.008076   0.157982       1.000000  0.193969 -0.338158   \n",
              "SGOT           0.081052   0.232610       0.193969  1.000000 -0.115455   \n",
              "ALBUMIN       -0.246169  -0.370712      -0.338158 -0.115455  1.000000   \n",
              "PROTIME       -0.153312  -0.220977      -0.189331 -0.137698  0.301497   \n",
              "Class         -0.219647  -0.450470      -0.141005 -0.075579  0.465827   \n",
              "\n",
              "                PROTIME     Class  \n",
              "AGE           -0.153312 -0.219647  \n",
              "BILIRUBIN     -0.220977 -0.450470  \n",
              "ALK_PHOSPHATE -0.189331 -0.141005  \n",
              "SGOT          -0.137698 -0.075579  \n",
              "ALBUMIN        0.301497  0.465827  \n",
              "PROTIME        1.000000  0.307238  \n",
              "Class          0.307238  1.000000  "
            ],
            "text/html": [
              "\n",
              "  <div id=\"df-6e8c5270-9db5-46eb-a79b-b853a92c485d\" class=\"colab-df-container\">\n",
              "    <div>\n",
              "<style scoped>\n",
              "    .dataframe tbody tr th:only-of-type {\n",
              "        vertical-align: middle;\n",
              "    }\n",
              "\n",
              "    .dataframe tbody tr th {\n",
              "        vertical-align: top;\n",
              "    }\n",
              "\n",
              "    .dataframe thead th {\n",
              "        text-align: right;\n",
              "    }\n",
              "</style>\n",
              "<table border=\"1\" class=\"dataframe\">\n",
              "  <thead>\n",
              "    <tr style=\"text-align: right;\">\n",
              "      <th></th>\n",
              "      <th>AGE</th>\n",
              "      <th>BILIRUBIN</th>\n",
              "      <th>ALK_PHOSPHATE</th>\n",
              "      <th>SGOT</th>\n",
              "      <th>ALBUMIN</th>\n",
              "      <th>PROTIME</th>\n",
              "      <th>Class</th>\n",
              "    </tr>\n",
              "  </thead>\n",
              "  <tbody>\n",
              "    <tr>\n",
              "      <th>AGE</th>\n",
              "      <td>1.000000</td>\n",
              "      <td>0.122884</td>\n",
              "      <td>0.008076</td>\n",
              "      <td>0.081052</td>\n",
              "      <td>-0.246169</td>\n",
              "      <td>-0.153312</td>\n",
              "      <td>-0.219647</td>\n",
              "    </tr>\n",
              "    <tr>\n",
              "      <th>BILIRUBIN</th>\n",
              "      <td>0.122884</td>\n",
              "      <td>1.000000</td>\n",
              "      <td>0.157982</td>\n",
              "      <td>0.232610</td>\n",
              "      <td>-0.370712</td>\n",
              "      <td>-0.220977</td>\n",
              "      <td>-0.450470</td>\n",
              "    </tr>\n",
              "    <tr>\n",
              "      <th>ALK_PHOSPHATE</th>\n",
              "      <td>0.008076</td>\n",
              "      <td>0.157982</td>\n",
              "      <td>1.000000</td>\n",
              "      <td>0.193969</td>\n",
              "      <td>-0.338158</td>\n",
              "      <td>-0.189331</td>\n",
              "      <td>-0.141005</td>\n",
              "    </tr>\n",
              "    <tr>\n",
              "      <th>SGOT</th>\n",
              "      <td>0.081052</td>\n",
              "      <td>0.232610</td>\n",
              "      <td>0.193969</td>\n",
              "      <td>1.000000</td>\n",
              "      <td>-0.115455</td>\n",
              "      <td>-0.137698</td>\n",
              "      <td>-0.075579</td>\n",
              "    </tr>\n",
              "    <tr>\n",
              "      <th>ALBUMIN</th>\n",
              "      <td>-0.246169</td>\n",
              "      <td>-0.370712</td>\n",
              "      <td>-0.338158</td>\n",
              "      <td>-0.115455</td>\n",
              "      <td>1.000000</td>\n",
              "      <td>0.301497</td>\n",
              "      <td>0.465827</td>\n",
              "    </tr>\n",
              "    <tr>\n",
              "      <th>PROTIME</th>\n",
              "      <td>-0.153312</td>\n",
              "      <td>-0.220977</td>\n",
              "      <td>-0.189331</td>\n",
              "      <td>-0.137698</td>\n",
              "      <td>0.301497</td>\n",
              "      <td>1.000000</td>\n",
              "      <td>0.307238</td>\n",
              "    </tr>\n",
              "    <tr>\n",
              "      <th>Class</th>\n",
              "      <td>-0.219647</td>\n",
              "      <td>-0.450470</td>\n",
              "      <td>-0.141005</td>\n",
              "      <td>-0.075579</td>\n",
              "      <td>0.465827</td>\n",
              "      <td>0.307238</td>\n",
              "      <td>1.000000</td>\n",
              "    </tr>\n",
              "  </tbody>\n",
              "</table>\n",
              "</div>\n",
              "    <div class=\"colab-df-buttons\">\n",
              "\n",
              "  <div class=\"colab-df-container\">\n",
              "    <button class=\"colab-df-convert\" onclick=\"convertToInteractive('df-6e8c5270-9db5-46eb-a79b-b853a92c485d')\"\n",
              "            title=\"Convert this dataframe to an interactive table.\"\n",
              "            style=\"display:none;\">\n",
              "\n",
              "  <svg xmlns=\"http://www.w3.org/2000/svg\" height=\"24px\" viewBox=\"0 -960 960 960\">\n",
              "    <path d=\"M120-120v-720h720v720H120Zm60-500h600v-160H180v160Zm220 220h160v-160H400v160Zm0 220h160v-160H400v160ZM180-400h160v-160H180v160Zm440 0h160v-160H620v160ZM180-180h160v-160H180v160Zm440 0h160v-160H620v160Z\"/>\n",
              "  </svg>\n",
              "    </button>\n",
              "\n",
              "  <style>\n",
              "    .colab-df-container {\n",
              "      display:flex;\n",
              "      gap: 12px;\n",
              "    }\n",
              "\n",
              "    .colab-df-convert {\n",
              "      background-color: #E8F0FE;\n",
              "      border: none;\n",
              "      border-radius: 50%;\n",
              "      cursor: pointer;\n",
              "      display: none;\n",
              "      fill: #1967D2;\n",
              "      height: 32px;\n",
              "      padding: 0 0 0 0;\n",
              "      width: 32px;\n",
              "    }\n",
              "\n",
              "    .colab-df-convert:hover {\n",
              "      background-color: #E2EBFA;\n",
              "      box-shadow: 0px 1px 2px rgba(60, 64, 67, 0.3), 0px 1px 3px 1px rgba(60, 64, 67, 0.15);\n",
              "      fill: #174EA6;\n",
              "    }\n",
              "\n",
              "    .colab-df-buttons div {\n",
              "      margin-bottom: 4px;\n",
              "    }\n",
              "\n",
              "    [theme=dark] .colab-df-convert {\n",
              "      background-color: #3B4455;\n",
              "      fill: #D2E3FC;\n",
              "    }\n",
              "\n",
              "    [theme=dark] .colab-df-convert:hover {\n",
              "      background-color: #434B5C;\n",
              "      box-shadow: 0px 1px 3px 1px rgba(0, 0, 0, 0.15);\n",
              "      filter: drop-shadow(0px 1px 2px rgba(0, 0, 0, 0.3));\n",
              "      fill: #FFFFFF;\n",
              "    }\n",
              "  </style>\n",
              "\n",
              "    <script>\n",
              "      const buttonEl =\n",
              "        document.querySelector('#df-6e8c5270-9db5-46eb-a79b-b853a92c485d button.colab-df-convert');\n",
              "      buttonEl.style.display =\n",
              "        google.colab.kernel.accessAllowed ? 'block' : 'none';\n",
              "\n",
              "      async function convertToInteractive(key) {\n",
              "        const element = document.querySelector('#df-6e8c5270-9db5-46eb-a79b-b853a92c485d');\n",
              "        const dataTable =\n",
              "          await google.colab.kernel.invokeFunction('convertToInteractive',\n",
              "                                                    [key], {});\n",
              "        if (!dataTable) return;\n",
              "\n",
              "        const docLinkHtml = 'Like what you see? Visit the ' +\n",
              "          '<a target=\"_blank\" href=https://colab.research.google.com/notebooks/data_table.ipynb>data table notebook</a>'\n",
              "          + ' to learn more about interactive tables.';\n",
              "        element.innerHTML = '';\n",
              "        dataTable['output_type'] = 'display_data';\n",
              "        await google.colab.output.renderOutput(dataTable, element);\n",
              "        const docLink = document.createElement('div');\n",
              "        docLink.innerHTML = docLinkHtml;\n",
              "        element.appendChild(docLink);\n",
              "      }\n",
              "    </script>\n",
              "  </div>\n",
              "\n",
              "\n",
              "<div id=\"df-03b846d7-21c3-4058-8293-19fdef955267\">\n",
              "  <button class=\"colab-df-quickchart\" onclick=\"quickchart('df-03b846d7-21c3-4058-8293-19fdef955267')\"\n",
              "            title=\"Suggest charts.\"\n",
              "            style=\"display:none;\">\n",
              "\n",
              "<svg xmlns=\"http://www.w3.org/2000/svg\" height=\"24px\"viewBox=\"0 0 24 24\"\n",
              "     width=\"24px\">\n",
              "    <g>\n",
              "        <path d=\"M19 3H5c-1.1 0-2 .9-2 2v14c0 1.1.9 2 2 2h14c1.1 0 2-.9 2-2V5c0-1.1-.9-2-2-2zM9 17H7v-7h2v7zm4 0h-2V7h2v10zm4 0h-2v-4h2v4z\"/>\n",
              "    </g>\n",
              "</svg>\n",
              "  </button>\n",
              "\n",
              "<style>\n",
              "  .colab-df-quickchart {\n",
              "      --bg-color: #E8F0FE;\n",
              "      --fill-color: #1967D2;\n",
              "      --hover-bg-color: #E2EBFA;\n",
              "      --hover-fill-color: #174EA6;\n",
              "      --disabled-fill-color: #AAA;\n",
              "      --disabled-bg-color: #DDD;\n",
              "  }\n",
              "\n",
              "  [theme=dark] .colab-df-quickchart {\n",
              "      --bg-color: #3B4455;\n",
              "      --fill-color: #D2E3FC;\n",
              "      --hover-bg-color: #434B5C;\n",
              "      --hover-fill-color: #FFFFFF;\n",
              "      --disabled-bg-color: #3B4455;\n",
              "      --disabled-fill-color: #666;\n",
              "  }\n",
              "\n",
              "  .colab-df-quickchart {\n",
              "    background-color: var(--bg-color);\n",
              "    border: none;\n",
              "    border-radius: 50%;\n",
              "    cursor: pointer;\n",
              "    display: none;\n",
              "    fill: var(--fill-color);\n",
              "    height: 32px;\n",
              "    padding: 0;\n",
              "    width: 32px;\n",
              "  }\n",
              "\n",
              "  .colab-df-quickchart:hover {\n",
              "    background-color: var(--hover-bg-color);\n",
              "    box-shadow: 0 1px 2px rgba(60, 64, 67, 0.3), 0 1px 3px 1px rgba(60, 64, 67, 0.15);\n",
              "    fill: var(--button-hover-fill-color);\n",
              "  }\n",
              "\n",
              "  .colab-df-quickchart-complete:disabled,\n",
              "  .colab-df-quickchart-complete:disabled:hover {\n",
              "    background-color: var(--disabled-bg-color);\n",
              "    fill: var(--disabled-fill-color);\n",
              "    box-shadow: none;\n",
              "  }\n",
              "\n",
              "  .colab-df-spinner {\n",
              "    border: 2px solid var(--fill-color);\n",
              "    border-color: transparent;\n",
              "    border-bottom-color: var(--fill-color);\n",
              "    animation:\n",
              "      spin 1s steps(1) infinite;\n",
              "  }\n",
              "\n",
              "  @keyframes spin {\n",
              "    0% {\n",
              "      border-color: transparent;\n",
              "      border-bottom-color: var(--fill-color);\n",
              "      border-left-color: var(--fill-color);\n",
              "    }\n",
              "    20% {\n",
              "      border-color: transparent;\n",
              "      border-left-color: var(--fill-color);\n",
              "      border-top-color: var(--fill-color);\n",
              "    }\n",
              "    30% {\n",
              "      border-color: transparent;\n",
              "      border-left-color: var(--fill-color);\n",
              "      border-top-color: var(--fill-color);\n",
              "      border-right-color: var(--fill-color);\n",
              "    }\n",
              "    40% {\n",
              "      border-color: transparent;\n",
              "      border-right-color: var(--fill-color);\n",
              "      border-top-color: var(--fill-color);\n",
              "    }\n",
              "    60% {\n",
              "      border-color: transparent;\n",
              "      border-right-color: var(--fill-color);\n",
              "    }\n",
              "    80% {\n",
              "      border-color: transparent;\n",
              "      border-right-color: var(--fill-color);\n",
              "      border-bottom-color: var(--fill-color);\n",
              "    }\n",
              "    90% {\n",
              "      border-color: transparent;\n",
              "      border-bottom-color: var(--fill-color);\n",
              "    }\n",
              "  }\n",
              "</style>\n",
              "\n",
              "  <script>\n",
              "    async function quickchart(key) {\n",
              "      const quickchartButtonEl =\n",
              "        document.querySelector('#' + key + ' button');\n",
              "      quickchartButtonEl.disabled = true;  // To prevent multiple clicks.\n",
              "      quickchartButtonEl.classList.add('colab-df-spinner');\n",
              "      try {\n",
              "        const charts = await google.colab.kernel.invokeFunction(\n",
              "            'suggestCharts', [key], {});\n",
              "      } catch (error) {\n",
              "        console.error('Error during call to suggestCharts:', error);\n",
              "      }\n",
              "      quickchartButtonEl.classList.remove('colab-df-spinner');\n",
              "      quickchartButtonEl.classList.add('colab-df-quickchart-complete');\n",
              "    }\n",
              "    (() => {\n",
              "      let quickchartButtonEl =\n",
              "        document.querySelector('#df-03b846d7-21c3-4058-8293-19fdef955267 button');\n",
              "      quickchartButtonEl.style.display =\n",
              "        google.colab.kernel.accessAllowed ? 'block' : 'none';\n",
              "    })();\n",
              "  </script>\n",
              "</div>\n",
              "    </div>\n",
              "  </div>\n"
            ]
          },
          "metadata": {},
          "execution_count": 66
        }
      ]
    },
    {
      "cell_type": "markdown",
      "metadata": {
        "id": "cd0PJoKnWYeQ"
      },
      "source": [
        "\n",
        "\n",
        "---\n",
        "\n",
        "### Questão 05.\n",
        "\n",
        "Determine as 10 variáveis com menor correlação com a variável `Class` (`pandas.DataFrame.corr`).\n",
        "\n",
        "Caso queiramos estudar a relação da variável `Class` com as outras variáveis, por que seria interessante desconsiderar essas 10 variáveis identificadas?\n",
        "\n",
        "> Lembre-se que heatmaps (`seaborn.heatmap`) podem auxiliar a visualização."
      ]
    },
    {
      "cell_type": "code",
      "metadata": {
        "id": "nOSi9pEIWhzz",
        "colab": {
          "base_uri": "https://localhost:8080/",
          "height": 611
        },
        "outputId": "e2af9bb0-fd4a-442e-bd08-c908f5c61cae"
      },
      "source": [
        "c = hepatitis.corr()\n",
        "sns.heatmap(c, annot = True, fmt = \"0.1f\", linewidths=0.6)"
      ],
      "execution_count": 86,
      "outputs": [
        {
          "output_type": "stream",
          "name": "stderr",
          "text": [
            "<ipython-input-86-56d2d88189bd>:1: FutureWarning: The default value of numeric_only in DataFrame.corr is deprecated. In a future version, it will default to False. Select only valid columns or specify the value of numeric_only to silence this warning.\n",
            "  c = hepatitis.corr()\n"
          ]
        },
        {
          "output_type": "execute_result",
          "data": {
            "text/plain": [
              "<Axes: >"
            ]
          },
          "metadata": {},
          "execution_count": 86
        },
        {
          "output_type": "display_data",
          "data": {
            "text/plain": [
              "<Figure size 640x480 with 2 Axes>"
            ],
            "image/png": "[encoded data removed]"
          },
          "metadata": {}
        }
      ]
    },
    {
      "cell_type": "markdown",
      "metadata": {
        "id": "l0EWHASzXob9"
      },
      "source": [
        "\n",
        "\n",
        "---\n",
        "\n",
        "### Questão 06.\n",
        "\n",
        "Com as 10 varíaveis identificadas na questão anterior, crie um novo dataset que não contenha essas 10 váriaveis.\n",
        "\n",
        "Apresente as 5 primeiras linhas do novo dataset criado.\n",
        "\n",
        "> Lembre-se que o numpy permite indexar colunas/linhas utilizando arrays."
      ]
    },
    {
      "cell_type": "code",
      "metadata": {
        "id": "fZ4EDsisXn1O",
        "colab": {
          "base_uri": "https://localhost:8080/"
        },
        "outputId": "2467dbbc-5ae5-4982-f657-72129416a819"
      },
      "source": [
        "hepatitis2 = hepatitis.drop(columns=['ALBUMIN','BILIRUBIN','PROTIME'])\n",
        "print(hepatitis2)"
      ],
      "execution_count": 89,
      "outputs": [
        {
          "output_type": "stream",
          "name": "stdout",
          "text": [
            "      AGE     SEX STEROID ANTIVIRALS FATIGUE MALAISE ANOREXIA LIVER_BIG  \\\n",
            "0    30.0    male      no         no      no      no       no        no   \n",
            "1    50.0  female      no         no     yes      no       no        no   \n",
            "2    78.0  female     yes         no     yes      no       no       yes   \n",
            "3    31.0  female     yes        yes      no      no       no       yes   \n",
            "4    34.0  female     yes         no      no      no       no       yes   \n",
            "..    ...     ...     ...        ...     ...     ...      ...       ...   \n",
            "150  46.0  female     yes         no     yes     yes      yes       yes   \n",
            "151  44.0  female     yes         no     yes      no       no       yes   \n",
            "152  61.0  female      no         no     yes     yes       no        no   \n",
            "153  53.0    male      no         no     yes      no       no       yes   \n",
            "154  43.0  female     yes         no     yes      no       no       yes   \n",
            "\n",
            "    LIVER_FIRM SPLEEN_PALPABLE SPIDERS ASCITES VARICES  ALK_PHOSPHATE   SGOT  \\\n",
            "0           no              no      no      no      no      85.000000   18.0   \n",
            "1           no              no      no      no      no     135.000000   42.0   \n",
            "2           no              no      no      no      no      96.000000   32.0   \n",
            "3           no              no      no      no      no      46.000000   52.0   \n",
            "4           no              no      no      no      no     105.325397  200.0   \n",
            "..         ...             ...     ...     ...     ...            ...    ...   \n",
            "150         no              no     yes     yes     yes     105.325397  242.0   \n",
            "151        yes              no      no      no      no     126.000000  142.0   \n",
            "152        yes              no     yes      no      no      75.000000   20.0   \n",
            "153         no             yes     yes      no     yes      81.000000   19.0   \n",
            "154         no             yes     yes     yes      no     100.000000   19.0   \n",
            "\n",
            "    HISTOLOGY  Class  \n",
            "0          no    1.0  \n",
            "1          no    1.0  \n",
            "2          no    1.0  \n",
            "3          no    1.0  \n",
            "4          no    1.0  \n",
            "..        ...    ...  \n",
            "150       yes    0.0  \n",
            "151       yes    1.0  \n",
            "152       yes    1.0  \n",
            "153       yes    1.0  \n",
            "154       yes    0.0  \n",
            "\n",
            "[155 rows x 17 columns]\n"
          ]
        }
      ]
    }
  ]
}