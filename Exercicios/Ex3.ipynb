{
  "cells": [
    {
      "cell_type": "markdown",
      "metadata": {
        "id": "HaabIE4ETRhY"
      },
      "source": [
        "# SCC-ICMC-USP - 2º Semestre de 2023\n",
        "## SCC0275 - Introdução à Ciência de Dados\n",
        "### Professora: Roseli A. F. Romero\n",
        "### Monitor: Roseval Malaquias Jr\n",
        "\n",
        "### **Exercício 3**\n",
        "\n",
        "**Número do Grupo:**\n",
        "\n",
        "**Alunos:**\n",
        "1. List item\n",
        "2. List item\n",
        "\n",
        "Nesta atividade, nosso objetivo é exercitar os seguintes conceitos:\n",
        "- Manuseio e exploração de datasets utilizando a biblioteca `pandas`;\n",
        "- Análise de variância e sua interpretação para a limpeza de datasets;\n",
        "- Utilização de métodos de imputação de valores faltantes com a biblioteca `scikit-learn`;\n",
        "- Transformação de variáveis utilizando a biblioteca `scikit-learn`;\n",
        "\n",
        "---\n",
        "\n",
        "Para os exercícios de **1** a **5**, utilizaremos o dataset **titanic.csv**. A célula de código a seguir realizará o download deste dataset para o ambiente virtual do Google Colab.\n"
      ]
    },
    {
      "cell_type": "code",
      "execution_count": 1,
      "metadata": {
        "id": "sdDczME6dgHl"
      },
      "outputs": [
        {
          "name": "stdout",
          "output_type": "stream",
          "text": [
            "--2023-09-21 17:20:55--  https://drive.google.com/uc?export=download&id=1agkXL_AlnzqjrPKIPwJy01Bkh17GUW-3\n",
            "Resolving drive.google.com (drive.google.com)... 142.251.167.100, 142.251.167.139, 142.251.167.101, ...\n",
            "Connecting to drive.google.com (drive.google.com)|142.251.167.100|:443... connected.\n",
            "HTTP request sent, awaiting response... 303 See Other\n",
            "Location: https://doc-0s-a0-docs.googleusercontent.com/docs/securesc/ha0ro937gcuc7l7deffksulhg5h7mbp1/kkqvadi6nkm9ok2baea6no301qtbtss3/1695316800000/17263126637575785733/*/1agkXL_AlnzqjrPKIPwJy01Bkh17GUW-3?e=download&uuid=f2b4d8ac-5bb4-4e29-addb-e5fe92e40624 [following]\n",
            "Warning: wildcards not supported in HTTP.\n",
            "--2023-09-21 17:20:55--  https://doc-0s-a0-docs.googleusercontent.com/docs/securesc/ha0ro937gcuc7l7deffksulhg5h7mbp1/kkqvadi6nkm9ok2baea6no301qtbtss3/1695316800000/17263126637575785733/*/1agkXL_AlnzqjrPKIPwJy01Bkh17GUW-3?e=download&uuid=f2b4d8ac-5bb4-4e29-addb-e5fe92e40624\n",
            "Resolving doc-0s-a0-docs.googleusercontent.com (doc-0s-a0-docs.googleusercontent.com)... 142.251.16.132, 2607:f8b0:4004:c08::84\n",
            "Connecting to doc-0s-a0-docs.googleusercontent.com (doc-0s-a0-docs.googleusercontent.com)|142.251.16.132|:443... connected.\n",
            "HTTP request sent, awaiting response... 200 OK\n",
            "Length: 61194 (60K) [text/csv]\n",
            "Saving to: ‘titanic.csv’\n",
            "\n",
            "titanic.csv         100%[===================>]  59.76K  --.-KB/s    in 0.01s   \n",
            "\n",
            "2023-09-21 17:20:56 (4.78 MB/s) - ‘titanic.csv’ saved [61194/61194]\n",
            "\n"
          ]
        }
      ],
      "source": [
        "# Download do dataset para o ambiente virtual.\n",
        "!wget -O titanic.csv \"https://drive.google.com/uc?export=download&id=1agkXL_AlnzqjrPKIPwJy01Bkh17GUW-3\""
      ]
    },
    {
      "cell_type": "markdown",
      "metadata": {
        "id": "S6CoyJQWu21M"
      },
      "source": [
        "## Dataset **titanic.csv**"
      ]
    },
    {
      "cell_type": "code",
      "execution_count": 34,
      "metadata": {},
      "outputs": [],
      "source": [
        "import pandas as pd\n",
        "import seaborn as sns\n",
        "import sklearn as sk\n",
        "\n",
        "dtset = pd.read_csv('titanic.csv')"
      ]
    },
    {
      "cell_type": "markdown",
      "metadata": {
        "id": "-RhnUVGStO2e"
      },
      "source": [
        "---\n",
        "### Questão 01.\n",
        "\n",
        "Carregue o dataset **titanic.csv** (`pandas.read_csv`) e interprete os valores ausentes corretamente. Utilize o parâmetro `na_values='?'`."
      ]
    },
    {
      "cell_type": "code",
      "execution_count": null,
      "metadata": {
        "id": "Q-_y7liyt-r6"
      },
      "outputs": [],
      "source": [
        "dtset =  pd.read_csv('titanic.csv')"
      ]
    },
    {
      "cell_type": "markdown",
      "metadata": {
        "id": "RU0sOxwctTh9"
      },
      "source": [
        "---\n",
        "### Questão 02.\n",
        "Realize uma análise exploratória inicial do dataset fornecido.\n",
        "\n",
        "Para isso, você deve:\n",
        "\n",
        " - Apresente a quantidade de valores faltantes para cada variável do dataset.\n",
        " - Identifique o tipo de dado de cada uma das variáveis (se são numéricas ou categóricas). Pode-se induzir o tipo real das variáveis utilizando o nome delas e seus valores, ou acessar um [dicionário do dataset online](https://www.codingninjas.com/studio/library/intro-to-titanic-dataset-and-data-analysis).\n",
        " - Corrija os tipos das variáveis no dataframe pandas criado.\n",
        "\n",
        "  **ATENÇÃO: O pandas pode importar as variáveis com os tipos incorretos!**"
      ]
    },
    {
      "cell_type": "code",
      "execution_count": 35,
      "metadata": {
        "id": "5hrgvjJct_Mg"
      },
      "outputs": [
        {
          "name": "stdout",
          "output_type": "stream",
          "text": [
            "PassengerId      0\n",
            "Survived         0\n",
            "Pclass           0\n",
            "Name             0\n",
            "Sex              0\n",
            "Age            177\n",
            "SibSp            0\n",
            "Parch            0\n",
            "Ticket           0\n",
            "Fare             0\n",
            "Cabin          687\n",
            "Embarked         2\n",
            "dtype: int64\n",
            "PassengerId      int64\n",
            "Survived         int64\n",
            "Pclass           int64\n",
            "Name            object\n",
            "Sex             object\n",
            "Age            float64\n",
            "SibSp            int64\n",
            "Parch            int64\n",
            "Ticket          object\n",
            "Fare           float64\n",
            "Cabin           object\n",
            "Embarked        object\n",
            "dtype: object\n"
          ]
        }
      ],
      "source": [
        "print(dtset.isnull().sum())\n",
        "print(dtset.dtypes)"
      ]
    },
    {
      "cell_type": "markdown",
      "metadata": {
        "id": "bEz9jpP4tYnn"
      },
      "source": [
        "\n",
        "\n",
        "---\n",
        "\n",
        "### Questão 03.\n",
        "\n",
        "Realize o pré-processamento do dataset fornecido.\n",
        "\n",
        "Para isso, você deve:\n",
        "\n",
        "\n",
        "-   **Para as variáveis numéricas:** substitua os valores faltantes utilizando a estratégia de **mediana** (`sklearn.impute.SimpleImputer`). Depois, **normalize** as variáveis (`sklearn.preprocessing.MinMaxScaler`).\n",
        "-   **Para as variáveis categóricas:** substitua os valores faltantes utilizando a estratégia de **mais frequentes** (`sklearn.impute.SimpleImputer`). Depois, converta os dados categóricos para uma representação numérica, utilizando a codificação **Label Encoding** (`sklearn.preprocessing.LabelEncoder`).\n",
        "\n",
        "Por fim, apresente os resultados, comprovando que a imputação e transformações foram feitas corretamente."
      ]
    },
    {
      "cell_type": "code",
      "execution_count": 36,
      "metadata": {
        "id": "zJENkjXnxUGC"
      },
      "outputs": [
        {
          "name": "stdout",
          "output_type": "stream",
          "text": [
            "PassengerId    float64\n",
            "Survived       float64\n",
            "Pclass         float64\n",
            "Name             int64\n",
            "Sex              int64\n",
            "Age            float64\n",
            "SibSp          float64\n",
            "Parch          float64\n",
            "Ticket           int64\n",
            "Fare           float64\n",
            "Cabin            int64\n",
            "Embarked         int64\n",
            "dtype: object\n"
          ]
        }
      ],
      "source": [
        "from sklearn.impute import SimpleImputer\n",
        "\n",
        "imputer = SimpleImputer(strategy='mean')\n",
        "\n",
        "col_num = dtset.select_dtypes(include=['number']).columns\n",
        "\n",
        "imputer.fit_transform(dtset[col_num])\n",
        "\n",
        "dtset[col_num] = imputer.transform(dtset[col_num])\n",
        "\n",
        "from sklearn.preprocessing import MinMaxScaler\n",
        "\n",
        "scaler = MinMaxScaler()\n",
        "\n",
        "scaler.fit(dtset[col_num])\n",
        "\n",
        "dtset[col_num] = scaler.transform(dtset[col_num])\n",
        "\n",
        "#-----/\\ númericas. \\/ categóricas -----------------------------\n",
        "\n",
        "imputer2 = SimpleImputer(strategy='most_frequent')\n",
        "\n",
        "col_char = dtset.select_dtypes(include=['category', 'object']).columns\n",
        "\n",
        "imputer2.fit(dtset[col_char])\n",
        "\n",
        "dtset[col_char] = imputer2.transform(dtset[col_char])\n",
        "\n",
        "from sklearn.preprocessing import LabelEncoder\n",
        "\n",
        "encoder = LabelEncoder()\n",
        "\n",
        "dtset[col_char] = dtset[col_char].apply(encoder.fit_transform)\n",
        "\n",
        "print(dtset.dtypes)\n",
        "\n"
      ]
    },
    {
      "cell_type": "code",
      "execution_count": 24,
      "metadata": {},
      "outputs": [
        {
          "name": "stdout",
          "output_type": "stream",
          "text": [
            "     PassengerId  Survived  Pclass  Name  Sex       Age  SibSp     Parch  \\\n",
            "0       0.000000       0.0     1.0   108    1  0.271174  0.125  0.000000   \n",
            "1       0.001124       1.0     0.0   190    0  0.472229  0.125  0.000000   \n",
            "2       0.002247       1.0     1.0   353    0  0.321438  0.000  0.000000   \n",
            "3       0.003371       1.0     0.0   272    0  0.434531  0.125  0.000000   \n",
            "4       0.004494       0.0     1.0    15    1  0.434531  0.000  0.000000   \n",
            "..           ...       ...     ...   ...  ...       ...    ...       ...   \n",
            "886     0.995506       0.0     0.5   548    1  0.334004  0.000  0.000000   \n",
            "887     0.996629       1.0     0.0   303    0  0.233476  0.000  0.000000   \n",
            "888     0.997753       0.0     1.0   413    0  0.367921  0.125  0.333333   \n",
            "889     0.998876       1.0     0.0    81    1  0.321438  0.000  0.000000   \n",
            "890     1.000000       0.0     1.0   220    1  0.396833  0.000  0.000000   \n",
            "\n",
            "     Ticket      Fare  Cabin  Embarked  \n",
            "0       523  0.014151     47         2  \n",
            "1       596  0.139136     81         0  \n",
            "2       669  0.015469     47         2  \n",
            "3        49  0.103644     55         2  \n",
            "4       472  0.015713     47         2  \n",
            "..      ...       ...    ...       ...  \n",
            "886     101  0.025374     47         2  \n",
            "887      14  0.058556     30         2  \n",
            "888     675  0.045771     47         2  \n",
            "889       8  0.058556     60         0  \n",
            "890     466  0.015127     47         1  \n",
            "\n",
            "[891 rows x 12 columns]\n"
          ]
        }
      ],
      "source": [
        "print(dtset)"
      ]
    },
    {
      "cell_type": "markdown",
      "metadata": {
        "id": "sZMiDmHhwp86"
      },
      "source": [
        "\n",
        "\n",
        "---\n",
        "\n",
        "### Questão 04.\n",
        "\n",
        "Neste conjunto de dados, entre as variáveis tem alguma que tem outliers? Se sim, indique-os."
      ]
    },
    {
      "cell_type": "code",
      "execution_count": null,
      "metadata": {},
      "outputs": [],
      "source": [
        "import matplotlib.pyplot as plt\n",
        "\n"
      ]
    },
    {
      "cell_type": "markdown",
      "metadata": {
        "id": "D7-jbsv-tbtf"
      },
      "source": [
        "\n",
        "\n",
        "---\n",
        "\n",
        "### Questão 05.\n",
        "\n",
        "Determine as 3 variáveis categóricas com maior variância (`pandas.DataFrame.var`).\n",
        "\n",
        "Por que seria difícil extrair conhecimento destas 3 variáveis?\n",
        "\n",
        "> Lembre-se que após realizar a transformação das variáveis categóricas com codificação Label Encoding, essas variáveis tornaram-se do tipo numérico para o pandas. Contudo, **o conhecimento representado por elas ainda é categórico!**"
      ]
    },
    {
      "cell_type": "code",
      "execution_count": 39,
      "metadata": {
        "id": "3AZtTtRpuAWa"
      },
      "outputs": [
        {
          "name": "stdout",
          "output_type": "stream",
          "text": [
            "Name      66231.000000\n",
            "Ticket    40340.986540\n",
            "Cabin       555.464442\n",
            "dtype: float64\n"
          ]
        }
      ],
      "source": [
        "variancias = dtset.var()\n",
        "\n",
        "top_variancias = variancias.sort_values(ascending=False).head(3)\n",
        "\n",
        "print(top_variancias)"
      ]
    },
    {
      "cell_type": "markdown",
      "metadata": {
        "id": "lJls8sH5tePO"
      },
      "source": [
        "\n",
        "\n",
        "---\n",
        "\n",
        "### Questão 06.\n",
        "\n",
        "Com as 3 varíaveis identificadas na questão anterior, crie um novo dataset que não contenha essas 3 váriaveis.\n",
        "\n",
        "Apresente as 5 primeiras linhas do novo dataset criado."
      ]
    },
    {
      "cell_type": "code",
      "execution_count": 40,
      "metadata": {
        "id": "ziofnUOUuAzU"
      },
      "outputs": [
        {
          "name": "stdout",
          "output_type": "stream",
          "text": [
            "   PassengerId  Survived  Pclass  Sex       Age  SibSp  Parch      Fare  \\\n",
            "0     0.000000       0.0     1.0    1  0.271174  0.125    0.0  0.014151   \n",
            "1     0.001124       1.0     0.0    0  0.472229  0.125    0.0  0.139136   \n",
            "2     0.002247       1.0     1.0    0  0.321438  0.000    0.0  0.015469   \n",
            "3     0.003371       1.0     0.0    0  0.434531  0.125    0.0  0.103644   \n",
            "4     0.004494       0.0     1.0    1  0.434531  0.000    0.0  0.015713   \n",
            "\n",
            "   Embarked  \n",
            "0         2  \n",
            "1         0  \n",
            "2         2  \n",
            "3         2  \n",
            "4         2  \n"
          ]
        }
      ],
      "source": [
        "data_novo=dtset.drop(columns=top_variancias.index)\n",
        "print(data_novo.head())"
      ]
    }
  ],
  "metadata": {
    "colab": {
      "provenance": []
    },
    "kernelspec": {
      "display_name": "Python 3",
      "name": "python3"
    },
    "language_info": {
      "codemirror_mode": {
        "name": "ipython",
        "version": 3
      },
      "file_extension": ".py",
      "mimetype": "text/x-python",
      "name": "python",
      "nbconvert_exporter": "python",
      "pygments_lexer": "ipython3",
      "version": "3.10.8"
    }
  },
  "nbformat": 4,
  "nbformat_minor": 0
}
