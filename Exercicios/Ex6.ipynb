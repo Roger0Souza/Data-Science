{
  "nbformat": 4,
  "nbformat_minor": 0,
  "metadata": {
    "colab": {
      "provenance": []
    },
    "kernelspec": {
      "name": "python3",
      "display_name": "Python 3"
    }
  },
  "cells": [
    {
      "cell_type": "markdown",
      "metadata": {
        "id": "HaabIE4ETRhY"
      },
      "source": [
        "# SCC-ICMC-USP - 2º Semestre de 2023\n",
        "## SCC0275 - Introdução à Ciência de Dados\n",
        "### Professora: Roseli A. F. Romero\n",
        "### Monitor: Roseval Malaquias Jr\n",
        "\n",
        "### **Exercício 6**\n",
        "\n",
        "**Número do Grupo:**\n",
        "\n",
        "**Alunos:**\n",
        "1. Danilo Carneiro\n",
        "2. Roger Rafael\n",
        "\n",
        "Nesta atividade, nosso objetivo é exercitar os seguintes conceitos:\n",
        "- Entender modelagem de dados;\n",
        "- Entender o processo de avaliação;\n",
        "- Trabalhar com procedimentos de amostragem;\n",
        "- Trabalhar com várias medidas de avaliação.\n",
        "\n",
        "---\n",
        "\n",
        "**Escolha, entre as opções abaixo, apenas UM dataset para realizar os exercícios.**\n",
        "\n",
        "**Se o dataset escolhido tiver mais de duas classes, transforme ele num problema binário. Isso pode ser feito escolhendo uma classe para representar a classe positiva e o restante a classe negativa.**\n",
        "\n",
        "**Possíveis datasets:**\n",
        "\n",
        "\n",
        "*   **Câncer de mama:** [sklearn.datasets.load_breast_cancer](https://scikit-learn.org/stable/modules/generated/sklearn.datasets.load_breast_cancer.html#sklearn.datasets.load_breast_cancer)\n",
        "*   **Dígitos:** [sklearn.datasets.load_digits](https://scikit-learn.org/stable/modules/generated/sklearn.datasets.load_digits.html#sklearn.datasets.load_digits)\n",
        "*   **Wine:** [sklearn.datasets.load_wine](https://scikit-learn.org/stable/modules/generated/sklearn.datasets.load_wine.html#sklearn.datasets.load_wine)\n",
        "\n",
        "\n",
        "---\n",
        "\n",
        "Após a análise dos dados e um pré-processamento, segue a etapa de modelagem dos experimentos. Essa etapa pode exigir um retorno ao pré-processamento, caso seja percebido que algo precisa ser ajustado. A modelagem visa determinar as etapas da execução dos experimentos. No nosso cenário, o experimento é a utilização de algoritmos de classificação, regressão ou agrupamento. Para tanto, é preciso definir, com a ajuda da análise dos dados, o tipo do problema (classificação, regressão, ...), os atributos/features a serem utilizados e o processo de avaliação.\n",
        "\n",
        "Esta prática foca mais no processo de avaliação. Para a avaliação, é necessário definir qual a função de custo/erro adequada e qual o estimador para o desempenho.\n",
        "\n",
        "Utilizaremos medidas de desempenho para classificação binária baseadas na matriz de confusão (TFP, TFN, TVP, TVN).\n",
        "\n",
        "Nas aplicações reais, o cliente dita qual a medida de desempenho deve ser utilizada, e muitas vezes não é uma das clássicas. E como essa medida, em geral, tem um impacto grande no treinamento do algoritmo de classificação, muitas vezes o algoritmo precisa ser adaptado e isso não é uma tarefa fácil.\n",
        "\n",
        "Após a definição do tipo do problema e da medida de avaliação, é preciso definir como será estimado o desempenho final.\n",
        "\n",
        "Esse processo está ligado à escolha do algoritmo de classificação, bem como à escolha de alguns hiperparâmetros. Uma abordagem muito comum na área é a utilização do 10-fold Cross-Validation. Esse procedimento pode ser utilizado para estimar o desempenho do classificador final, bem como, na escolha de alguns poucos hiperparâmetros.\n",
        "\n",
        "---\n"
      ]
    },
    {
      "cell_type": "markdown",
      "metadata": {
        "id": "_YGNezFvvnES"
      },
      "source": [
        "### Questão 01.\n",
        "\n",
        "- Caso a base escolhida tenha mais de 2 classes, transforme-a em um problema binário. Você pode fazer isso uma vez e depois usar a nova base nas próximas questões.\n",
        "\n",
        "- Outras operações como remoção de atributos podem ser feitas uma vez fora da função de pré-processamento.\n",
        "\n",
        "- Implemente a função de pré-processamento para sua base aplicando as técnicas que achar necessário.\n"
      ]
    },
    {
      "cell_type": "code",
      "source": [
        "# Importação da base escolhida e transformação para problema binário caso necessário.\n",
        "from sklearn.datasets import load_breast_cancer\n",
        "import pandas as pd\n",
        "from sklearn.preprocessing import MinMaxScaler\n",
        "from sklearn.model_selection import train_test_split\n",
        "\n",
        "# Carregar a base de dados\n",
        "data = load_breast_cancer()\n",
        "df = pd.DataFrame(data.data, columns=data.feature_names)\n",
        "df['target'] = data.target\n",
        "\n",
        "# Função para pré-processamento\n",
        "def preprocess_data(df):\n",
        "    # Normalizar os atributos usando Min-Max Scaling\n",
        "    scaler = MinMaxScaler()\n",
        "    df[data.feature_names] = scaler.fit_transform(df[data.feature_names])\n",
        "\n",
        "    # Transformar o problema para uma classificação binária\n",
        "    df['target'] = df['target'].apply(lambda x: 0 if x == 0 else 1)\n",
        "\n",
        "    return df\n",
        "\n",
        "# Aplicar a função de pré-processamento\n",
        "df_preprocessed = preprocess_data(df)\n"
      ],
      "metadata": {
        "id": "U8HVVWviRBvV"
      },
      "execution_count": 1,
      "outputs": []
    },
    {
      "cell_type": "code",
      "metadata": {
        "id": "IXyPAd32wZq4"
      },
      "source": [
        "# Complete a função de pré-processamento.\n",
        "def preprocess(x_treino, x_teste, y_treino, y_teste):\n",
        "    # Aplicar as mesmas transformações feitas na célula 1 aos conjuntos de treino e teste\n",
        "    x_treino_novo = preprocess_data(x_treino.copy())\n",
        "    x_teste_novo = preprocess_data(x_teste.copy())\n",
        "\n",
        "    # As transformações acima já lidaram com a variável alvo, portanto, não há necessidade de modificação em y_treino e y_teste\n",
        "    y_treino_novo = y_treino\n",
        "    y_teste_novo = y_teste\n",
        "\n",
        "    return x_treino_novo, x_teste_novo, y_treino_novo, y_teste_novo"
      ],
      "execution_count": 2,
      "outputs": []
    },
    {
      "cell_type": "markdown",
      "source": [
        "---\n",
        "### Questão 02.\n",
        "\n",
        "Implemente a função que retorna a matriz de confusão, escolha duas métricas de avaliação e crie 2 funções, sendo  uma função para cada métrica calculada a partir da matriz confusão."
      ],
      "metadata": {
        "id": "AoWo_N9Lkukt"
      }
    },
    {
      "cell_type": "code",
      "source": [
        "# Complete a função de cálculo da matriz de confusão.\n",
        "import numpy as np\n",
        "\n",
        "def confusion_matrix(y_test, y_pred):\n",
        "    conf = np.zeros((2, 2))\n",
        "\n",
        "    for i in range(len(y_test)):\n",
        "        conf[y_test[i], y_pred[i]] += 1\n",
        "\n",
        "    return conf"
      ],
      "metadata": {
        "id": "hKc6ZCyZkvva"
      },
      "execution_count": 3,
      "outputs": []
    },
    {
      "cell_type": "code",
      "source": [
        "# Demonstra o funcionamento da função confusion_matrix.\n",
        "actual = np.array([1, 0, 1, 1, 0, 0, 1, 0, 1, 1])\n",
        "predicted = np.array([0, 1, 1, 1, 1, 0, 1, 1, 0, 1])\n",
        "\n",
        "conf_mat = confusion_matrix(actual, predicted)\n",
        "print(\"Matriz de Confusão:\")\n",
        "print(conf_mat)"
      ],
      "metadata": {
        "id": "OAzpcPmORVHM",
        "outputId": "bbfc0a7d-94a7-40bd-ce9d-47f17ec44b22",
        "colab": {
          "base_uri": "https://localhost:8080/"
        }
      },
      "execution_count": 4,
      "outputs": [
        {
          "output_type": "stream",
          "name": "stdout",
          "text": [
            "Matriz de Confusão:\n",
            "[[1. 3.]\n",
            " [2. 4.]]\n"
          ]
        }
      ]
    },
    {
      "cell_type": "code",
      "source": [
        "# Mudar o nome e os parâmetros da função de acordo com sua métrica 1.\n",
        "def metric1(conf_mat):\n",
        "    precisao = conf_mat[1, 1] / (conf_mat[1, 1] + conf_mat[0, 1])\n",
        "    return precisao\n",
        "\n",
        "m = metric1(conf_mat)\n",
        "print(\"Métrica 1:\")\n",
        "print(m)"
      ],
      "metadata": {
        "id": "jMZQRN9FOZDF",
        "outputId": "c7a540e2-fee6-41f4-9f44-263f17c2fcb0",
        "colab": {
          "base_uri": "https://localhost:8080/"
        }
      },
      "execution_count": 5,
      "outputs": [
        {
          "output_type": "stream",
          "name": "stdout",
          "text": [
            "Métrica 1:\n",
            "0.5714285714285714\n"
          ]
        }
      ]
    },
    {
      "cell_type": "code",
      "source": [
        "# Mudar o nome e os parâmetros da função de acordo com sua métrica 2.\n",
        "def metric2(conf_mat):\n",
        "    recall = conf_mat[1, 1] / (conf_mat[1, 1] + conf_mat[1, 0])\n",
        "    return recall\n",
        "\n",
        "m = metric2(conf_mat)\n",
        "print(\"Métrica 2:\")\n",
        "print(m)"
      ],
      "metadata": {
        "id": "iwIJaOOaOqME",
        "outputId": "bf5121fe-5608-4589-d521-1a346889e462",
        "colab": {
          "base_uri": "https://localhost:8080/"
        }
      },
      "execution_count": 6,
      "outputs": [
        {
          "output_type": "stream",
          "name": "stdout",
          "text": [
            "Métrica 2:\n",
            "0.6666666666666666\n"
          ]
        }
      ]
    },
    {
      "cell_type": "markdown",
      "metadata": {
        "id": "l28MiSJ8tEzb"
      },
      "source": [
        "---\n",
        "### Questão 03.\n",
        "\n",
        "Complete e execute a função *classificacao* definida no notebook.\n",
        "\n",
        "- Aplique validação cruzada\n",
        "- Use sua função de pré-processamento\n",
        "- Use suas métricas de avaliação\n",
        "\n",
        "**ATENÇÃO:** utilizar o método ``sklearn.model_selection.KFold`` para realizar a amostragem solicitada. Pretem atenção nas dicas e complete o código onde foi solicitado."
      ]
    },
    {
      "cell_type": "code",
      "metadata": {
        "id": "7eU824MhsLjR"
      },
      "source": [
        "from sklearn.tree import DecisionTreeClassifier\n",
        "from sklearn.neighbors import KNeighborsClassifier\n",
        "from sklearn.model_selection import KFold\n",
        "from matplotlib import pyplot as plt\n",
        "from numpy import mean, std\n",
        "import numpy as np\n",
        "from sklearn.metrics import confusion_matrix, precision_score, recall_score\n",
        "\n",
        "def classificacao(data, columns, target, preproc_fn, score_fn, score_name,\n",
        "                  folds=5, plot=True):\n",
        "    \"\"\"\n",
        "    Executa classificação do conjunto de dados passado\n",
        "    ---------------------------------------------------------------\n",
        "    data:       DataFrame. Conjunto de dados\n",
        "    columns:    Lista de inteiros. Índice das colunas utilizadas no treinamento e teste\n",
        "    target:     Inteiro. Índice da coluna alvo\n",
        "    preproc_fn: Função. Faz o pré-processamento da base já separada em treino e teste\n",
        "    score_fn:   Função. A função que calcula a medida de desempenho desejada. Deve ser uma\n",
        "                função que compara dois vetores, o primeiro vetor são os valores preditos\n",
        "                pelo classificador, o segundo os rótulos reais\n",
        "                Vide exemplo das funções em\n",
        "                http://scikit-learn.org/stable/modules/classes.html#module-sklearn.metrics\n",
        "                como por exemplo, sklearn.metrics.accuracy_score\n",
        "                http://scikit-learn.org/stable/modules/generated/sklearn.metrics.accuracy_score.html\n",
        "    score_name: String. Uma string com o nome da medida de desempenho\n",
        "    folds:      Inteiro. Número de folds na validação cruzada\n",
        "    plot:       Booleano. True para plotar os gráficos False para não plotar\n",
        "    ---------------------------------------------------------------\n",
        "    Realiza a classificação em 2 modelos (knn, Árvore de decisão)\n",
        "    Plot o gráfico de desempenho para cada classificador.\n",
        "    Retorna um dicionário com os classificadores treinados, as medidas de desempenho e matriz de confusão\n",
        "    \"\"\"\n",
        "    # inicializa os modelos com os parâmetros solicitados\n",
        "    knn = KNeighborsClassifier(n_neighbors=3)\n",
        "    dt = DecisionTreeClassifier(criterion='gini', splitter='best', min_samples_split=int(len(data)*0.1))\n",
        "\n",
        "    clfs = [knn, dt]\n",
        "    clfs_names = ['knn', 'dt']\n",
        "\n",
        "    # prepara validação cruzada\n",
        "    # faz divisão do dataset em fold partes\n",
        "    # DICA: Utilizar o método sklearn.model_selection.KFold\n",
        "    kf = KFold(n_splits=folds, shuffle=True, random_state=42)\n",
        "\n",
        "    # itera para cada classificador fazendo treino e teste\n",
        "    results = {'knn':[], 'dt':[]}\n",
        "    for c, c_name in zip(clfs, clfs_names):\n",
        "        # para cada split\n",
        "        for train_index, test_index in kf.split(data):\n",
        "            # separa conjunto de treino e de teste\n",
        "            x_train, x_test = data.iloc[train_index, columns], data.iloc[test_index, columns]\n",
        "            y_train, y_test = data.iloc[train_index, target], data.iloc[test_index, target]\n",
        "\n",
        "            # preprocessamento\n",
        "            x_train, x_test, y_train, y_test = preproc_fn(x_train, x_test, y_train, y_test)\n",
        "\n",
        "            # faz o treino do modelo\n",
        "            clf = c.fit(X=x_train, y=y_train)\n",
        "\n",
        "            # valores preditos pelo classificador\n",
        "            y_pred = clf.predict(x_test)\n",
        "            # rótulos verdadeiros convertidos para array\n",
        "            y_test = np.array(y_test)\n",
        "\n",
        "            # realiza predição no conjunto de teste e salva o resultado\n",
        "            resultado = score_fn(y_test, y_pred)\n",
        "            results[c_name].append(resultado)\n",
        "\n",
        "    if not plot:\n",
        "        return {'results': results, 'clfs':clfs}\n",
        "    # faz o plot de desempenho dos classificadores\n",
        "    plt.figure(figsize=(8,8))\n",
        "    plt.bar(range(1, len(clfs)+1), [mean(results[name]) for name in clfs_names],\n",
        "                                yerr=[std(results[name]) for name in clfs_names])\n",
        "    plt.xticks(range(1, len(clfs)+1), clfs_names, rotation=45)\n",
        "    title = 'Desempenho dos classificadores - %s'%(score_name)\n",
        "    plt.title(title)\n",
        "    plt.show()\n",
        "\n",
        "    return {'results': results, 'clfs':clfs}"
      ],
      "execution_count": 7,
      "outputs": []
    },
    {
      "cell_type": "markdown",
      "metadata": {
        "id": "d-MZPSb4Ya9U"
      },
      "source": [
        "---\n",
        "\n",
        "### Questão 04.\n",
        "\n",
        "Utilizar os 2 procedimentos de amostragem para estimação do desempenho:\n",
        "- 10-fold Cross Validation;\n",
        "- Leave-one-out;\n",
        "\n",
        "Para o dataset escolhido, executar os 2 procedimentos acima para estimar o desempenho.\n",
        "\n",
        "> **DICA:** Você pode utilizar a função *classificacao* já disponível apenas ajustando o parâmetro *folds*."
      ]
    },
    {
      "cell_type": "code",
      "metadata": {
        "id": "aTib3VxtYviF"
      },
      "source": [],
      "execution_count": null,
      "outputs": []
    }
  ]
}